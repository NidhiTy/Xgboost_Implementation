{
 "cells": [
  {
   "cell_type": "code",
   "execution_count": 1,
   "metadata": {},
   "outputs": [
    {
     "name": "stdout",
     "output_type": "stream",
     "text": [
      "Collecting xgboost==0.82\n",
      "  Downloading xgboost-0.82-py2.py3-none-manylinux1_x86_64.whl (114.0 MB)\n",
      "\u001b[K     |████████████████████████████████| 114.0 MB 22 kB/s /s eta 0:00:01\n",
      "\u001b[?25hRequirement already satisfied: scipy in /opt/conda/lib/python3.7/site-packages (from xgboost==0.82) (1.4.1)\n",
      "Requirement already satisfied: numpy in /opt/conda/lib/python3.7/site-packages (from xgboost==0.82) (1.18.1)\n",
      "Installing collected packages: xgboost\n",
      "Successfully installed xgboost-0.82\n"
     ]
    }
   ],
   "source": [
    "# Install xgboost . Version is important. Can change overtime\n",
    "! pip install xgboost==0.82"
   ]
  },
  {
   "cell_type": "code",
   "execution_count": 2,
   "metadata": {},
   "outputs": [
    {
     "name": "stdout",
     "output_type": "stream",
     "text": [
      "Collecting scikit-learn==0.20.4\n",
      "  Downloading scikit_learn-0.20.4-cp37-cp37m-manylinux1_x86_64.whl (5.4 MB)\n",
      "\u001b[K     |████████████████████████████████| 5.4 MB 4.8 MB/s eta 0:00:01\n",
      "\u001b[?25hRequirement already satisfied: numpy>=1.8.2 in /opt/conda/lib/python3.7/site-packages (from scikit-learn==0.20.4) (1.18.1)\n",
      "Requirement already satisfied: scipy>=0.13.3 in /opt/conda/lib/python3.7/site-packages (from scikit-learn==0.20.4) (1.4.1)\n",
      "Installing collected packages: scikit-learn\n",
      "  Attempting uninstall: scikit-learn\n",
      "    Found existing installation: scikit-learn 0.23.1\n",
      "    Uninstalling scikit-learn-0.23.1:\n",
      "      Successfully uninstalled scikit-learn-0.23.1\n",
      "Successfully installed scikit-learn-0.20.4\n"
     ]
    }
   ],
   "source": [
    "## please create the model with sklearn version = 0.20.4\n",
    "! pip install scikit-learn==0.20.4"
   ]
  },
  {
   "cell_type": "code",
   "execution_count": 4,
   "metadata": {},
   "outputs": [
    {
     "data": {
      "text/plain": [
       "'0.20.4'"
      ]
     },
     "execution_count": 4,
     "metadata": {},
     "output_type": "execute_result"
    }
   ],
   "source": [
    "import sklearn\n",
    "sklearn.__version__"
   ]
  },
  {
   "cell_type": "code",
   "execution_count": null,
   "metadata": {},
   "outputs": [],
   "source": []
  },
  {
   "cell_type": "code",
   "execution_count": 6,
   "metadata": {},
   "outputs": [],
   "source": [
    "import numpy as np\n",
    "import pandas as pd\n",
    "from sklearn.model_selection import train_test_split\n",
    "import xgboost as xgb\n",
    "pd.options.display.float_format = '{:20,.2f}'.format"
   ]
  },
  {
   "cell_type": "code",
   "execution_count": null,
   "metadata": {},
   "outputs": [],
   "source": []
  },
  {
   "cell_type": "code",
   "execution_count": 8,
   "metadata": {},
   "outputs": [],
   "source": [
    "# Missing value = 0 is not an good option. Only for Training purpose\n",
    "df = pd.read_csv(\"gs://datastorageicici/Day2/train_final.csv\").fillna(0)"
   ]
  },
  {
   "cell_type": "code",
   "execution_count": 10,
   "metadata": {},
   "outputs": [
    {
     "data": {
      "text/html": [
       "<div>\n",
       "<style scoped>\n",
       "    .dataframe tbody tr th:only-of-type {\n",
       "        vertical-align: middle;\n",
       "    }\n",
       "\n",
       "    .dataframe tbody tr th {\n",
       "        vertical-align: top;\n",
       "    }\n",
       "\n",
       "    .dataframe thead th {\n",
       "        text-align: right;\n",
       "    }\n",
       "</style>\n",
       "<table border=\"1\" class=\"dataframe\">\n",
       "  <thead>\n",
       "    <tr style=\"text-align: right;\">\n",
       "      <th></th>\n",
       "      <th>x36</th>\n",
       "      <th>x34</th>\n",
       "      <th>x35</th>\n",
       "      <th>x33</th>\n",
       "      <th>x32</th>\n",
       "      <th>x31</th>\n",
       "      <th>x4</th>\n",
       "      <th>x3</th>\n",
       "      <th>x2</th>\n",
       "      <th>x1</th>\n",
       "      <th>...</th>\n",
       "      <th>x30</th>\n",
       "      <th>x38</th>\n",
       "      <th>Target</th>\n",
       "      <th>x28</th>\n",
       "      <th>id</th>\n",
       "      <th>x39_1</th>\n",
       "      <th>x39_2</th>\n",
       "      <th>x39_3</th>\n",
       "      <th>x39_4</th>\n",
       "      <th>x39_5</th>\n",
       "    </tr>\n",
       "  </thead>\n",
       "  <tbody>\n",
       "    <tr>\n",
       "      <th>0</th>\n",
       "      <td>24</td>\n",
       "      <td>15</td>\n",
       "      <td>12,966.18</td>\n",
       "      <td>63,374.00</td>\n",
       "      <td>39</td>\n",
       "      <td>76,340.18</td>\n",
       "      <td>6</td>\n",
       "      <td>8,683.18</td>\n",
       "      <td>4</td>\n",
       "      <td>15,632.00</td>\n",
       "      <td>...</td>\n",
       "      <td>15.00</td>\n",
       "      <td>0.00</td>\n",
       "      <td>0</td>\n",
       "      <td>1</td>\n",
       "      <td>1</td>\n",
       "      <td>1</td>\n",
       "      <td>0</td>\n",
       "      <td>0</td>\n",
       "      <td>0</td>\n",
       "      <td>0</td>\n",
       "    </tr>\n",
       "    <tr>\n",
       "      <th>1</th>\n",
       "      <td>42</td>\n",
       "      <td>7</td>\n",
       "      <td>14,950.16</td>\n",
       "      <td>1,907.46</td>\n",
       "      <td>49</td>\n",
       "      <td>16,857.62</td>\n",
       "      <td>19</td>\n",
       "      <td>10,293.16</td>\n",
       "      <td>1</td>\n",
       "      <td>1,270.46</td>\n",
       "      <td>...</td>\n",
       "      <td>4.00</td>\n",
       "      <td>0.00</td>\n",
       "      <td>0</td>\n",
       "      <td>1</td>\n",
       "      <td>2</td>\n",
       "      <td>0</td>\n",
       "      <td>0</td>\n",
       "      <td>1</td>\n",
       "      <td>0</td>\n",
       "      <td>0</td>\n",
       "    </tr>\n",
       "    <tr>\n",
       "      <th>2</th>\n",
       "      <td>18</td>\n",
       "      <td>13</td>\n",
       "      <td>1,762.00</td>\n",
       "      <td>1,949.87</td>\n",
       "      <td>31</td>\n",
       "      <td>3,711.87</td>\n",
       "      <td>0</td>\n",
       "      <td>0.00</td>\n",
       "      <td>1</td>\n",
       "      <td>1,349.87</td>\n",
       "      <td>...</td>\n",
       "      <td>13.00</td>\n",
       "      <td>0.00</td>\n",
       "      <td>0</td>\n",
       "      <td>1</td>\n",
       "      <td>3</td>\n",
       "      <td>0</td>\n",
       "      <td>0</td>\n",
       "      <td>1</td>\n",
       "      <td>0</td>\n",
       "      <td>0</td>\n",
       "    </tr>\n",
       "    <tr>\n",
       "      <th>3</th>\n",
       "      <td>6</td>\n",
       "      <td>4</td>\n",
       "      <td>6,640.00</td>\n",
       "      <td>420.00</td>\n",
       "      <td>10</td>\n",
       "      <td>7,060.00</td>\n",
       "      <td>2</td>\n",
       "      <td>5,620.00</td>\n",
       "      <td>0</td>\n",
       "      <td>0.00</td>\n",
       "      <td>...</td>\n",
       "      <td>2.00</td>\n",
       "      <td>0.00</td>\n",
       "      <td>1</td>\n",
       "      <td>1</td>\n",
       "      <td>4</td>\n",
       "      <td>0</td>\n",
       "      <td>0</td>\n",
       "      <td>1</td>\n",
       "      <td>0</td>\n",
       "      <td>0</td>\n",
       "    </tr>\n",
       "    <tr>\n",
       "      <th>4</th>\n",
       "      <td>2</td>\n",
       "      <td>1</td>\n",
       "      <td>1,045.00</td>\n",
       "      <td>444.00</td>\n",
       "      <td>3</td>\n",
       "      <td>1,489.00</td>\n",
       "      <td>0</td>\n",
       "      <td>0.00</td>\n",
       "      <td>0</td>\n",
       "      <td>0.00</td>\n",
       "      <td>...</td>\n",
       "      <td>1.00</td>\n",
       "      <td>0.00</td>\n",
       "      <td>0</td>\n",
       "      <td>1</td>\n",
       "      <td>5</td>\n",
       "      <td>1</td>\n",
       "      <td>0</td>\n",
       "      <td>0</td>\n",
       "      <td>0</td>\n",
       "      <td>0</td>\n",
       "    </tr>\n",
       "  </tbody>\n",
       "</table>\n",
       "<p>5 rows × 42 columns</p>\n",
       "</div>"
      ],
      "text/plain": [
       "   x36  x34                  x35                  x33  x32  \\\n",
       "0   24   15            12,966.18            63,374.00   39   \n",
       "1   42    7            14,950.16             1,907.46   49   \n",
       "2   18   13             1,762.00             1,949.87   31   \n",
       "3    6    4             6,640.00               420.00   10   \n",
       "4    2    1             1,045.00               444.00    3   \n",
       "\n",
       "                   x31  x4                   x3  x2                   x1  ...  \\\n",
       "0            76,340.18   6             8,683.18   4            15,632.00  ...   \n",
       "1            16,857.62  19            10,293.16   1             1,270.46  ...   \n",
       "2             3,711.87   0                 0.00   1             1,349.87  ...   \n",
       "3             7,060.00   2             5,620.00   0                 0.00  ...   \n",
       "4             1,489.00   0                 0.00   0                 0.00  ...   \n",
       "\n",
       "                   x30                  x38  Target  x28  id  x39_1  x39_2  \\\n",
       "0                15.00                 0.00       0    1   1      1      0   \n",
       "1                 4.00                 0.00       0    1   2      0      0   \n",
       "2                13.00                 0.00       0    1   3      0      0   \n",
       "3                 2.00                 0.00       1    1   4      0      0   \n",
       "4                 1.00                 0.00       0    1   5      1      0   \n",
       "\n",
       "   x39_3  x39_4  x39_5  \n",
       "0      0      0      0  \n",
       "1      1      0      0  \n",
       "2      1      0      0  \n",
       "3      1      0      0  \n",
       "4      0      0      0  \n",
       "\n",
       "[5 rows x 42 columns]"
      ]
     },
     "execution_count": 10,
     "metadata": {},
     "output_type": "execute_result"
    }
   ],
   "source": [
    "df.head()"
   ]
  },
  {
   "cell_type": "code",
   "execution_count": null,
   "metadata": {},
   "outputs": [],
   "source": []
  },
  {
   "cell_type": "code",
   "execution_count": 9,
   "metadata": {},
   "outputs": [
    {
     "name": "stdout",
     "output_type": "stream",
     "text": [
      "['x36', 'x34', 'x35', 'x33', 'x32', 'x31', 'x4', 'x3', 'x2', 'x1', 'x6', 'x5', 'x16', 'x15', 'x14', 'x13', 'x18', 'x17', 'x10', 'x9', 'x8', 'x7', 'x12', 'x11', 'x22', 'x21', 'x20', 'x19', 'x24', 'x23', 'x37', 'x29', 'x30', 'x38', 'Target', 'x28', 'id', 'x39_1', 'x39_2', 'x39_3', 'x39_4', 'x39_5']\n"
     ]
    }
   ],
   "source": [
    "df = pd.get_dummies(df, columns=['x39'])\n",
    "print(list(df.columns))"
   ]
  },
  {
   "cell_type": "code",
   "execution_count": null,
   "metadata": {},
   "outputs": [],
   "source": []
  },
  {
   "cell_type": "code",
   "execution_count": 11,
   "metadata": {},
   "outputs": [],
   "source": [
    "# Creating X & Y array's\n",
    "y = df['Target'].values.ravel()\n",
    "x = df.drop(['Target','id'],axis=1).values\n",
    "# Splitting the data\n",
    "x_train,x_test,y_train,y_test=train_test_split(x,y,test_size=0.3,random_state=0)"
   ]
  },
  {
   "cell_type": "code",
   "execution_count": 12,
   "metadata": {},
   "outputs": [
    {
     "data": {
      "text/plain": [
       "(29327, 40)"
      ]
     },
     "execution_count": 12,
     "metadata": {},
     "output_type": "execute_result"
    }
   ],
   "source": [
    "x_train.shape"
   ]
  },
  {
   "cell_type": "code",
   "execution_count": 14,
   "metadata": {},
   "outputs": [
    {
     "data": {
      "text/plain": [
       "array([[2.400000e+01, 1.500000e+01, 1.296618e+04, ..., 0.000000e+00,\n",
       "        0.000000e+00, 0.000000e+00],\n",
       "       [4.200000e+01, 7.000000e+00, 1.495016e+04, ..., 1.000000e+00,\n",
       "        0.000000e+00, 0.000000e+00],\n",
       "       [1.800000e+01, 1.300000e+01, 1.762000e+03, ..., 1.000000e+00,\n",
       "        0.000000e+00, 0.000000e+00],\n",
       "       ...,\n",
       "       [0.000000e+00, 3.000000e+00, 0.000000e+00, ..., 1.000000e+00,\n",
       "        0.000000e+00, 0.000000e+00],\n",
       "       [1.000000e+00, 0.000000e+00, 4.440000e+02, ..., 1.000000e+00,\n",
       "        0.000000e+00, 0.000000e+00],\n",
       "       [0.000000e+00, 1.000000e+00, 0.000000e+00, ..., 0.000000e+00,\n",
       "        0.000000e+00, 0.000000e+00]])"
      ]
     },
     "execution_count": 14,
     "metadata": {},
     "output_type": "execute_result"
    }
   ],
   "source": [
    "x"
   ]
  },
  {
   "cell_type": "code",
   "execution_count": 33,
   "metadata": {},
   "outputs": [],
   "source": [
    "# Training Models\n",
    "eval_set = [(x_train,y_train),(x_test,y_test)]\n",
    "\n",
    "model = xgb.XGBClassifier(colsample_bytree= 0.65, min_child_weight= 4.0,\n",
    "                          learning_rate=0.05,subsample= 0.70, max_depth= 3, \n",
    "                          n_estimators= 200,nthread= 6, gamma= 3,objective= \"binary:logistic\")"
   ]
  },
  {
   "cell_type": "code",
   "execution_count": 34,
   "metadata": {},
   "outputs": [],
   "source": [
    "# Model fitting\n",
    "model.fit(x_train,y_train,eval_metric= \"logloss\",verbose=False,eval_set=eval_set)\n",
    "results = model.evals_result()"
   ]
  },
  {
   "cell_type": "code",
   "execution_count": 35,
   "metadata": {},
   "outputs": [
    {
     "data": {
      "image/png": "[encoded data removed]",
      "text/plain": [
       "<Figure size 432x288 with 1 Axes>"
      ]
     },
     "metadata": {
      "needs_background": "light"
     },
     "output_type": "display_data"
    }
   ],
   "source": [
    "# Plotting loss \n",
    "import matplotlib.pyplot as plt\n",
    "plt.plot(results['validation_0']['logloss'],label='train')\n",
    "plt.plot(results['validation_1']['logloss'],label='test')\n",
    "plt.legend(loc='upper right')\n",
    "plt.show()"
   ]
  },
  {
   "cell_type": "code",
   "execution_count": 26,
   "metadata": {},
   "outputs": [],
   "source": [
    "# Model \n",
    "pred_class = model.predict(x_test, ntree_limit = 75)\n",
    "pred_prob  = model.predict_proba(x_test)"
   ]
  },
  {
   "cell_type": "code",
   "execution_count": 27,
   "metadata": {},
   "outputs": [
    {
     "data": {
      "text/plain": [
       "array([[0.45578134, 0.54421866],\n",
       "       [0.6899719 , 0.31002808],\n",
       "       [0.752987  , 0.247013  ],\n",
       "       [0.9403884 , 0.0596116 ],\n",
       "       [0.97108936, 0.02891065]], dtype=float32)"
      ]
     },
     "execution_count": 27,
     "metadata": {},
     "output_type": "execute_result"
    }
   ],
   "source": [
    "pred_prob[0:5]"
   ]
  },
  {
   "cell_type": "code",
   "execution_count": 32,
   "metadata": {},
   "outputs": [
    {
     "name": "stdout",
     "output_type": "stream",
     "text": [
      "roc: 0.7624160802912257 \n",
      "f1_score: 0.26842105263157895\n"
     ]
    }
   ],
   "source": [
    "# one can also get other metrics\n",
    "from sklearn.metrics import roc_auc_score,f1_score\n",
    "print('roc: '+str(roc_auc_score(y_test, pred_prob[:,1]))+' \\nf1_score: '+str(f1_score(y_test, pred_class)))"
   ]
  },
  {
   "cell_type": "code",
   "execution_count": null,
   "metadata": {},
   "outputs": [],
   "source": []
  },
  {
   "cell_type": "code",
   "execution_count": 31,
   "metadata": {},
   "outputs": [],
   "source": [
    "## Save model as .bst format in case no preprocessing is required in prediction, else use pickle\n",
    "## model name should be model only. This will be used when model is deployed\n",
    "model.save_model('model.bst')"
   ]
  },
  {
   "cell_type": "code",
   "execution_count": null,
   "metadata": {},
   "outputs": [],
   "source": []
  },
  {
   "cell_type": "code",
   "execution_count": 14,
   "metadata": {},
   "outputs": [
    {
     "data": {
      "text/plain": [
       "'\\nimport pickle\\nwith open(\"/home/jupyter/model.pkl\",\\'wb\\') as f:\\n    pickle.dump(model,f)\\n'"
      ]
     },
     "execution_count": 14,
     "metadata": {},
     "output_type": "execute_result"
    }
   ],
   "source": [
    "## Pickle format\n",
    "'''\n",
    "import pickle\n",
    "with open(\"/home/jupyter/model.pkl\",'wb') as f:\n",
    "    pickle.dump(model,f)\n",
    "'''"
   ]
  },
  {
   "cell_type": "code",
   "execution_count": null,
   "metadata": {},
   "outputs": [],
   "source": []
  }
 ],
 "metadata": {
  "environment": {
   "name": "common-cpu.m48",
   "type": "gcloud",
   "uri": "gcr.io/deeplearning-platform-release/base-cpu:m48"
  },
  "kernelspec": {
   "display_name": "Python 3",
   "language": "python",
   "name": "python3"
  },
  "language_info": {
   "codemirror_mode": {
    "name": "ipython",
    "version": 3
   },
   "file_extension": ".py",
   "mimetype": "text/x-python",
   "name": "python",
   "nbconvert_exporter": "python",
   "pygments_lexer": "ipython3",
   "version": "3.7.6"
  }
 },
 "nbformat": 4,
 "nbformat_minor": 4
}
